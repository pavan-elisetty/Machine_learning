{
  "nbformat": 4,
  "nbformat_minor": 0,
  "metadata": {
    "colab": {
      "name": "Artificial Neural Network",
      "provenance": [],
      "collapsed_sections": [],
      "toc_visible": true
    },
    "kernelspec": {
      "name": "python3",
      "display_name": "Python 3"
    }
  },
  "cells": [
    {
      "cell_type": "markdown",
      "metadata": {
        "id": "3cbb7fRy-eyr"
      },
      "source": [
        "# Artificial Neural Network\r\n",
        "dataset has been obtained from UCI machine learning datasets\r\n",
        "powerplant dataset"
      ]
    },
    {
      "cell_type": "markdown",
      "metadata": {
        "id": "8sNDnxE2-pwE"
      },
      "source": [
        "### Importing the libraries"
      ]
    },
    {
      "cell_type": "code",
      "metadata": {
        "id": "lxChR1Rk-umf"
      },
      "source": [
        "import numpy as np\n",
        "import pandas as pd\n",
        "import tensorflow as tf"
      ],
      "execution_count": 2,
      "outputs": []
    },
    {
      "cell_type": "code",
      "metadata": {
        "id": "uBTqR3nacj0e",
        "colab": {
          "base_uri": "https://localhost:8080/",
          "height": 34
        },
        "outputId": "4c0bd183-e424-429a-9fba-ceb841c06888"
      },
      "source": [
        "tf.__version__"
      ],
      "execution_count": null,
      "outputs": [
        {
          "output_type": "execute_result",
          "data": {
            "text/plain": [
              "'2.2.0-rc2'"
            ]
          },
          "metadata": {
            "tags": []
          },
          "execution_count": 2
        }
      ]
    },
    {
      "cell_type": "markdown",
      "metadata": {
        "id": "AG3FQEch-yuA"
      },
      "source": [
        "## Part 1 - Data Preprocessing"
      ]
    },
    {
      "cell_type": "markdown",
      "metadata": {
        "id": "-4zq8Mza_D9O"
      },
      "source": [
        "### Importing the dataset"
      ]
    },
    {
      "cell_type": "code",
      "metadata": {
        "id": "B9CV13Co_HHM"
      },
      "source": [
        "dataset = pd.read_excel('/content/Folds5x2_pp.xlsx')\n",
        "X = dataset.iloc[:, :-1].values\n",
        "y = dataset.iloc[:, -1].values"
      ],
      "execution_count": 3,
      "outputs": []
    },
    {
      "cell_type": "code",
      "metadata": {
        "id": "5k5pWNQZVuqY",
        "outputId": "1e12b14f-d0ef-4a07-b1aa-434c63f958cb",
        "colab": {
          "base_uri": "https://localhost:8080/"
        }
      },
      "source": [
        "X"
      ],
      "execution_count": 4,
      "outputs": [
        {
          "output_type": "execute_result",
          "data": {
            "text/plain": [
              "array([[  14.96,   41.76, 1024.07,   73.17],\n",
              "       [  25.18,   62.96, 1020.04,   59.08],\n",
              "       [   5.11,   39.4 , 1012.16,   92.14],\n",
              "       ...,\n",
              "       [  31.32,   74.33, 1012.92,   36.48],\n",
              "       [  24.48,   69.45, 1013.86,   62.39],\n",
              "       [  21.6 ,   62.52, 1017.23,   67.87]])"
            ]
          },
          "metadata": {
            "tags": []
          },
          "execution_count": 4
        }
      ]
    },
    {
      "cell_type": "markdown",
      "metadata": {
        "id": "VC6omXel_Up0"
      },
      "source": [
        "### Splitting the dataset into the Training set and Test set"
      ]
    },
    {
      "cell_type": "code",
      "metadata": {
        "id": "L5edeb2r_agx"
      },
      "source": [
        "from sklearn.model_selection import train_test_split\n",
        "X_train, X_test, y_train, y_test = train_test_split(X, y, test_size = 0.2, random_state = 0)"
      ],
      "execution_count": 5,
      "outputs": []
    },
    {
      "cell_type": "markdown",
      "metadata": {
        "id": "_mSLlAT9_eyI"
      },
      "source": [
        "## Part 2 - Building the ANN"
      ]
    },
    {
      "cell_type": "markdown",
      "metadata": {
        "id": "CsBULd_f_wLY"
      },
      "source": [
        "### Initializing the ANN"
      ]
    },
    {
      "cell_type": "code",
      "metadata": {
        "id": "J6Hd97Ls__Nz"
      },
      "source": [
        "ann = tf.keras.models.Sequential()"
      ],
      "execution_count": 6,
      "outputs": []
    },
    {
      "cell_type": "markdown",
      "metadata": {
        "id": "iitAFJS_ABUn"
      },
      "source": [
        "### Adding the input layer and the first hidden layer"
      ]
    },
    {
      "cell_type": "code",
      "metadata": {
        "id": "ksO_Vv40AHix"
      },
      "source": [
        "ann.add(tf.keras.layers.Dense(units=6, activation='relu'))"
      ],
      "execution_count": 7,
      "outputs": []
    },
    {
      "cell_type": "markdown",
      "metadata": {
        "id": "-lb4kK_wAKbs"
      },
      "source": [
        "### Adding the second hidden layer"
      ]
    },
    {
      "cell_type": "code",
      "metadata": {
        "id": "c2357OqEAQOQ"
      },
      "source": [
        "ann.add(tf.keras.layers.Dense(units=6, activation='relu'))"
      ],
      "execution_count": 8,
      "outputs": []
    },
    {
      "cell_type": "markdown",
      "metadata": {
        "id": "jwMOmKb3AdBY"
      },
      "source": [
        "### Adding the output layer"
      ]
    },
    {
      "cell_type": "code",
      "metadata": {
        "id": "YFATpzsUAkLL"
      },
      "source": [
        "ann.add(tf.keras.layers.Dense(units=1))"
      ],
      "execution_count": 9,
      "outputs": []
    },
    {
      "cell_type": "markdown",
      "metadata": {
        "id": "fq7e4fF6A1yy"
      },
      "source": [
        "## Part 3 - Training the ANN"
      ]
    },
    {
      "cell_type": "markdown",
      "metadata": {
        "id": "qDeylAs2An25"
      },
      "source": [
        "### Compiling the ANN"
      ]
    },
    {
      "cell_type": "code",
      "metadata": {
        "id": "pesgbWlCAtB4"
      },
      "source": [
        "ann.compile(optimizer = 'adam', loss = 'mean_squared_error')"
      ],
      "execution_count": 10,
      "outputs": []
    },
    {
      "cell_type": "markdown",
      "metadata": {
        "id": "YjVuiybYOo7r"
      },
      "source": [
        "### Training the ANN model on the Training set"
      ]
    },
    {
      "cell_type": "code",
      "metadata": {
        "id": "c_vV-tiiA5zn",
        "colab": {
          "base_uri": "https://localhost:8080/"
        },
        "outputId": "b589fb88-cdcc-48e0-f8a7-aa58cf7c2172"
      },
      "source": [
        "ann.fit(X_train, y_train, batch_size = 32, epochs = 100)"
      ],
      "execution_count": 11,
      "outputs": [
        {
          "output_type": "stream",
          "text": [
            "Epoch 1/100\n",
            "240/240 [==============================] - 1s 1ms/step - loss: 262822.9193\n",
            "Epoch 2/100\n",
            "240/240 [==============================] - 0s 1ms/step - loss: 42107.8966\n",
            "Epoch 3/100\n",
            "240/240 [==============================] - 0s 1ms/step - loss: 213.5757\n",
            "Epoch 4/100\n",
            "240/240 [==============================] - 0s 1ms/step - loss: 212.4489\n",
            "Epoch 5/100\n",
            "240/240 [==============================] - 0s 1ms/step - loss: 201.6048\n",
            "Epoch 6/100\n",
            "240/240 [==============================] - 0s 1ms/step - loss: 196.1111\n",
            "Epoch 7/100\n",
            "240/240 [==============================] - 0s 1ms/step - loss: 187.6475\n",
            "Epoch 8/100\n",
            "240/240 [==============================] - 0s 944us/step - loss: 181.1821\n",
            "Epoch 9/100\n",
            "240/240 [==============================] - 0s 969us/step - loss: 171.0928\n",
            "Epoch 10/100\n",
            "240/240 [==============================] - 0s 982us/step - loss: 162.4990\n",
            "Epoch 11/100\n",
            "240/240 [==============================] - 0s 1ms/step - loss: 156.2043\n",
            "Epoch 12/100\n",
            "240/240 [==============================] - 0s 1ms/step - loss: 142.4137\n",
            "Epoch 13/100\n",
            "240/240 [==============================] - 0s 1ms/step - loss: 132.6694\n",
            "Epoch 14/100\n",
            "240/240 [==============================] - 0s 940us/step - loss: 120.4352\n",
            "Epoch 15/100\n",
            "240/240 [==============================] - 0s 963us/step - loss: 113.3364\n",
            "Epoch 16/100\n",
            "240/240 [==============================] - 0s 1ms/step - loss: 102.8047\n",
            "Epoch 17/100\n",
            "240/240 [==============================] - 0s 936us/step - loss: 90.9661\n",
            "Epoch 18/100\n",
            "240/240 [==============================] - 0s 960us/step - loss: 78.3384\n",
            "Epoch 19/100\n",
            "240/240 [==============================] - 0s 976us/step - loss: 72.2707\n",
            "Epoch 20/100\n",
            "240/240 [==============================] - 0s 1ms/step - loss: 65.8087\n",
            "Epoch 21/100\n",
            "240/240 [==============================] - 0s 970us/step - loss: 57.9731\n",
            "Epoch 22/100\n",
            "240/240 [==============================] - 0s 989us/step - loss: 51.8285\n",
            "Epoch 23/100\n",
            "240/240 [==============================] - 0s 951us/step - loss: 48.6778\n",
            "Epoch 24/100\n",
            "240/240 [==============================] - 0s 995us/step - loss: 42.7803\n",
            "Epoch 25/100\n",
            "240/240 [==============================] - 0s 979us/step - loss: 40.1900\n",
            "Epoch 26/100\n",
            "240/240 [==============================] - 0s 958us/step - loss: 36.3183\n",
            "Epoch 27/100\n",
            "240/240 [==============================] - 0s 1ms/step - loss: 34.2543\n",
            "Epoch 28/100\n",
            "240/240 [==============================] - 0s 1ms/step - loss: 31.9907\n",
            "Epoch 29/100\n",
            "240/240 [==============================] - 0s 1ms/step - loss: 30.7652\n",
            "Epoch 30/100\n",
            "240/240 [==============================] - 0s 967us/step - loss: 30.7781\n",
            "Epoch 31/100\n",
            "240/240 [==============================] - 0s 990us/step - loss: 29.4250\n",
            "Epoch 32/100\n",
            "240/240 [==============================] - 0s 976us/step - loss: 28.8901\n",
            "Epoch 33/100\n",
            "240/240 [==============================] - 0s 1000us/step - loss: 29.0838\n",
            "Epoch 34/100\n",
            "240/240 [==============================] - 0s 960us/step - loss: 28.7019\n",
            "Epoch 35/100\n",
            "240/240 [==============================] - 0s 947us/step - loss: 28.0851\n",
            "Epoch 36/100\n",
            "240/240 [==============================] - 0s 1ms/step - loss: 28.1257\n",
            "Epoch 37/100\n",
            "240/240 [==============================] - 0s 971us/step - loss: 28.0283\n",
            "Epoch 38/100\n",
            "240/240 [==============================] - 0s 993us/step - loss: 27.4960\n",
            "Epoch 39/100\n",
            "240/240 [==============================] - 0s 955us/step - loss: 27.4753\n",
            "Epoch 40/100\n",
            "240/240 [==============================] - 0s 953us/step - loss: 27.7402\n",
            "Epoch 41/100\n",
            "240/240 [==============================] - 0s 992us/step - loss: 26.9190\n",
            "Epoch 42/100\n",
            "240/240 [==============================] - 0s 987us/step - loss: 27.7204\n",
            "Epoch 43/100\n",
            "240/240 [==============================] - 0s 981us/step - loss: 26.7056\n",
            "Epoch 44/100\n",
            "240/240 [==============================] - 0s 1ms/step - loss: 27.1087\n",
            "Epoch 45/100\n",
            "240/240 [==============================] - 0s 984us/step - loss: 29.1038\n",
            "Epoch 46/100\n",
            "240/240 [==============================] - 0s 964us/step - loss: 26.6534\n",
            "Epoch 47/100\n",
            "240/240 [==============================] - 0s 925us/step - loss: 29.1712\n",
            "Epoch 48/100\n",
            "240/240 [==============================] - 0s 916us/step - loss: 27.6823\n",
            "Epoch 49/100\n",
            "240/240 [==============================] - 0s 949us/step - loss: 26.7171\n",
            "Epoch 50/100\n",
            "240/240 [==============================] - 0s 949us/step - loss: 28.2179\n",
            "Epoch 51/100\n",
            "240/240 [==============================] - 0s 981us/step - loss: 27.7451\n",
            "Epoch 52/100\n",
            "240/240 [==============================] - 0s 943us/step - loss: 27.1494\n",
            "Epoch 53/100\n",
            "240/240 [==============================] - 0s 984us/step - loss: 25.9662\n",
            "Epoch 54/100\n",
            "240/240 [==============================] - 0s 971us/step - loss: 26.6391\n",
            "Epoch 55/100\n",
            "240/240 [==============================] - 0s 950us/step - loss: 28.0430\n",
            "Epoch 56/100\n",
            "240/240 [==============================] - 0s 957us/step - loss: 27.0815\n",
            "Epoch 57/100\n",
            "240/240 [==============================] - 0s 951us/step - loss: 25.9398\n",
            "Epoch 58/100\n",
            "240/240 [==============================] - 0s 978us/step - loss: 26.3593\n",
            "Epoch 59/100\n",
            "240/240 [==============================] - 0s 950us/step - loss: 28.6232\n",
            "Epoch 60/100\n",
            "240/240 [==============================] - 0s 996us/step - loss: 26.0450\n",
            "Epoch 61/100\n",
            "240/240 [==============================] - 0s 984us/step - loss: 26.5452\n",
            "Epoch 62/100\n",
            "240/240 [==============================] - 0s 990us/step - loss: 26.6210\n",
            "Epoch 63/100\n",
            "240/240 [==============================] - 0s 927us/step - loss: 25.9386\n",
            "Epoch 64/100\n",
            "240/240 [==============================] - 0s 956us/step - loss: 27.1306\n",
            "Epoch 65/100\n",
            "240/240 [==============================] - 0s 914us/step - loss: 26.2637\n",
            "Epoch 66/100\n",
            "240/240 [==============================] - 0s 927us/step - loss: 28.6510\n",
            "Epoch 67/100\n",
            "240/240 [==============================] - 0s 999us/step - loss: 26.0662\n",
            "Epoch 68/100\n",
            "240/240 [==============================] - 0s 929us/step - loss: 26.5566\n",
            "Epoch 69/100\n",
            "240/240 [==============================] - 0s 974us/step - loss: 26.1320\n",
            "Epoch 70/100\n",
            "240/240 [==============================] - 0s 989us/step - loss: 28.4698\n",
            "Epoch 71/100\n",
            "240/240 [==============================] - 0s 1ms/step - loss: 25.7565\n",
            "Epoch 72/100\n",
            "240/240 [==============================] - 0s 978us/step - loss: 26.8876\n",
            "Epoch 73/100\n",
            "240/240 [==============================] - 0s 962us/step - loss: 27.0076\n",
            "Epoch 74/100\n",
            "240/240 [==============================] - 0s 1ms/step - loss: 26.2075\n",
            "Epoch 75/100\n",
            "240/240 [==============================] - 0s 1ms/step - loss: 28.4457\n",
            "Epoch 76/100\n",
            "240/240 [==============================] - 0s 954us/step - loss: 26.7950\n",
            "Epoch 77/100\n",
            "240/240 [==============================] - 0s 966us/step - loss: 25.6950\n",
            "Epoch 78/100\n",
            "240/240 [==============================] - 0s 946us/step - loss: 27.3983\n",
            "Epoch 79/100\n",
            "240/240 [==============================] - 0s 1ms/step - loss: 27.1423\n",
            "Epoch 80/100\n",
            "240/240 [==============================] - 0s 944us/step - loss: 27.0855\n",
            "Epoch 81/100\n",
            "240/240 [==============================] - 0s 978us/step - loss: 26.5787\n",
            "Epoch 82/100\n",
            "240/240 [==============================] - 0s 960us/step - loss: 27.0865\n",
            "Epoch 83/100\n",
            "240/240 [==============================] - 0s 1ms/step - loss: 26.6987\n",
            "Epoch 84/100\n",
            "240/240 [==============================] - 0s 964us/step - loss: 27.3879\n",
            "Epoch 85/100\n",
            "240/240 [==============================] - 0s 995us/step - loss: 26.5483\n",
            "Epoch 86/100\n",
            "240/240 [==============================] - 0s 959us/step - loss: 26.1869\n",
            "Epoch 87/100\n",
            "240/240 [==============================] - 0s 1ms/step - loss: 27.9311\n",
            "Epoch 88/100\n",
            "240/240 [==============================] - 0s 944us/step - loss: 25.7056\n",
            "Epoch 89/100\n",
            "240/240 [==============================] - 0s 983us/step - loss: 26.3226\n",
            "Epoch 90/100\n",
            "240/240 [==============================] - 0s 954us/step - loss: 26.5398\n",
            "Epoch 91/100\n",
            "240/240 [==============================] - 0s 970us/step - loss: 26.5070\n",
            "Epoch 92/100\n",
            "240/240 [==============================] - 0s 991us/step - loss: 26.5893\n",
            "Epoch 93/100\n",
            "240/240 [==============================] - 0s 998us/step - loss: 26.5671\n",
            "Epoch 94/100\n",
            "240/240 [==============================] - 0s 964us/step - loss: 26.1982\n",
            "Epoch 95/100\n",
            "240/240 [==============================] - 0s 1ms/step - loss: 27.2458\n",
            "Epoch 96/100\n",
            "240/240 [==============================] - 0s 1ms/step - loss: 26.6879\n",
            "Epoch 97/100\n",
            "240/240 [==============================] - 0s 966us/step - loss: 27.4734\n",
            "Epoch 98/100\n",
            "240/240 [==============================] - 0s 1ms/step - loss: 27.8917\n",
            "Epoch 99/100\n",
            "240/240 [==============================] - 0s 985us/step - loss: 26.9270\n",
            "Epoch 100/100\n",
            "240/240 [==============================] - 0s 987us/step - loss: 27.5750\n"
          ],
          "name": "stdout"
        },
        {
          "output_type": "execute_result",
          "data": {
            "text/plain": [
              "<tensorflow.python.keras.callbacks.History at 0x7f9c3a66d6a0>"
            ]
          },
          "metadata": {
            "tags": []
          },
          "execution_count": 11
        }
      ]
    },
    {
      "cell_type": "markdown",
      "metadata": {
        "id": "0H0zKKNEBLD5"
      },
      "source": [
        "### Predicting the results of the Test set"
      ]
    },
    {
      "cell_type": "code",
      "metadata": {
        "id": "IA0yApEmBG1X",
        "colab": {
          "base_uri": "https://localhost:8080/"
        },
        "outputId": "330185be-92e3-4128-d692-1ab604b42f3b"
      },
      "source": [
        "y_pred = ann.predict(X_test)\n",
        "np.set_printoptions(precision=2)\n",
        "print(np.concatenate((y_pred.reshape(len(y_pred),1), y_test.reshape(len(y_test),1)),1))"
      ],
      "execution_count": 12,
      "outputs": [
        {
          "output_type": "stream",
          "text": [
            "[[432.34 431.23]\n",
            " [463.42 460.01]\n",
            " [466.92 461.14]\n",
            " ...\n",
            " [474.16 473.26]\n",
            " [440.91 438.  ]\n",
            " [460.14 463.28]]\n"
          ],
          "name": "stdout"
        }
      ]
    }
  ]
}